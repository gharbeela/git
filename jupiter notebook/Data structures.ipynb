this is the first repo on git hub
{
 "cells": [
  {
   "cell_type": "markdown",
   "id": "f19b38ea-1ed0-4e93-be90-25bf5dd207e8",
   "metadata": {},
   "source": [
    "## Tuple\n",
    "-collection of elements \n",
    "-once stored cant be stored(unchangeable)\n",
    "-different elements can be stored\n"
   ]
  },
  {
   "cell_type": "code",
   "execution_count": 7,
   "id": "158cba53-26ab-4014-9a5a-6c8d278a114d",
   "metadata": {},
   "outputs": [
    {
     "data": {
      "text/plain": [
       "(8, 'mimi', 4.78)"
      ]
     },
     "execution_count": 7,
     "metadata": {},
     "output_type": "execute_result"
    }
   ],
   "source": [
    "tuple=(8,\"mimi\",4.78)\n",
    "tuple"
   ]
  },
  {
   "cell_type": "code",
   "execution_count": 9,
   "id": "19bc20e4-6335-4c13-aa97-2d9c8bf8886f",
   "metadata": {},
   "outputs": [
    {
     "data": {
      "text/plain": [
       "tuple"
      ]
     },
     "execution_count": 9,
     "metadata": {},
     "output_type": "execute_result"
    }
   ],
   "source": [
    "type(tuple)"
   ]
  },
  {
   "cell_type": "markdown",
   "id": "e1e4d59f-737c-4be6-9f0f-d1de4e03c7ef",
   "metadata": {},
   "source": [
    "# indexing"
   ]
  },
  {
   "cell_type": "code",
   "execution_count": 15,
   "id": "ae44563f-d2ba-4c2f-a6eb-1451dd8a79c2",
   "metadata": {},
   "outputs": [
    {
     "data": {
      "text/plain": [
       "8"
      ]
     },
     "execution_count": 15,
     "metadata": {},
     "output_type": "execute_result"
    }
   ],
   "source": [
    "tuple[0]                                               #in indesing always use []"
   ]
  },
  {
   "cell_type": "code",
   "execution_count": 17,
   "id": "886ee2c1-3694-426c-ba02-4e993b3ad2e1",
   "metadata": {},
   "outputs": [
    {
     "data": {
      "text/plain": [
       "'mimi'"
      ]
     },
     "execution_count": 17,
     "metadata": {},
     "output_type": "execute_result"
    }
   ],
   "source": [
    "tuple[1]"
   ]
  },
  {
   "cell_type": "code",
   "execution_count": 29,
   "id": "5b0cfe18-53c1-4fd5-922f-d98b3c6781fb",
   "metadata": {},
   "outputs": [
    {
     "data": {
      "text/plain": [
       "(8, 'mimi', 4.78)"
      ]
     },
     "execution_count": 29,
     "metadata": {},
     "output_type": "execute_result"
    }
   ],
   "source": [
    "tuple[0:7]"
   ]
  },
  {
   "cell_type": "code",
   "execution_count": 31,
   "id": "f3c24ec7-151a-436e-beb6-76295959a4a4",
   "metadata": {},
   "outputs": [
    {
     "data": {
      "text/plain": [
       "3"
      ]
     },
     "execution_count": 31,
     "metadata": {},
     "output_type": "execute_result"
    }
   ],
   "source": [
    "len(tuple)"
   ]
  },
  {
   "cell_type": "code",
   "execution_count": 37,
   "id": "bd12ae7d-921e-4958-9ddf-05ac1412a216",
   "metadata": {},
   "outputs": [
    {
     "data": {
      "text/plain": [
       "(2, 'pizza', 9.6, 'true')"
      ]
     },
     "execution_count": 37,
     "metadata": {},
     "output_type": "execute_result"
    }
   ],
   "source": [
    "tup2=(2,\"pizza\",9.6,\"true\")\n",
    "tup2"
   ]
  },
  {
   "cell_type": "code",
   "execution_count": 39,
   "id": "7fc6054f-a1ea-4e13-970c-453f33171b72",
   "metadata": {},
   "outputs": [
    {
     "data": {
      "text/plain": [
       "(8, 'mimi', 4.78, 2, 'pizza', 9.6, 'true')"
      ]
     },
     "execution_count": 39,
     "metadata": {},
     "output_type": "execute_result"
    }
   ],
   "source": [
    "tuple+tup2                                        #concetenate "
   ]
  },
  {
   "cell_type": "code",
   "execution_count": 41,
   "id": "4c7776c6-92ce-41ec-ad8b-6c78055d38b9",
   "metadata": {},
   "outputs": [
    {
     "data": {
      "text/plain": [
       "(8,\n",
       " 'mimi',\n",
       " 4.78,\n",
       " 8,\n",
       " 'mimi',\n",
       " 4.78,\n",
       " 8,\n",
       " 'mimi',\n",
       " 4.78,\n",
       " 8,\n",
       " 'mimi',\n",
       " 4.78,\n",
       " 2,\n",
       " 'pizza',\n",
       " 9.6,\n",
       " 'true')"
      ]
     },
     "execution_count": 41,
     "metadata": {},
     "output_type": "execute_result"
    }
   ],
   "source": [
    "tuple*4+tup2                         #in tuple when we multiply it just repeast iteself that many times"
   ]
  },
  {
   "cell_type": "code",
   "execution_count": 43,
   "id": "bec3345f-6c0d-4134-b5b2-d7e6a5b63edf",
   "metadata": {},
   "outputs": [
    {
     "data": {
      "text/plain": [
       "(45, 35, 47, 78, 69, 91)"
      ]
     },
     "execution_count": 43,
     "metadata": {},
     "output_type": "execute_result"
    }
   ],
   "source": [
    "tup3=(45,35,47,78,69,91)\n",
    "tup3"
   ]
  },
  {
   "cell_type": "code",
   "execution_count": 49,
   "id": "fa9c957a-ddf2-47af-a309-ec1ef99ebd4f",
   "metadata": {},
   "outputs": [
    {
     "data": {
      "text/plain": [
       "(45, 35, 47, 78, 69, 91, 45, 35, 47, 78, 69, 91)"
      ]
     },
     "execution_count": 49,
     "metadata": {},
     "output_type": "execute_result"
    }
   ],
   "source": [
    "tup3*2                             #only tuple ad with another tuple no integer        #* simply repeating"
   ]
  },
  {
   "cell_type": "code",
   "execution_count": 57,
   "id": "46ef8ac1-f6bb-4a50-96fe-26172656dfa2",
   "metadata": {},
   "outputs": [
    {
     "data": {
      "text/plain": [
       "35"
      ]
     },
     "execution_count": 57,
     "metadata": {},
     "output_type": "execute_result"
    }
   ],
   "source": [
    "min(tup3)"
   ]
  },
  {
   "cell_type": "code",
   "execution_count": 59,
   "id": "d1ab2e8b-e6e6-453a-9a6f-54df7c5cc1e7",
   "metadata": {},
   "outputs": [
    {
     "data": {
      "text/plain": [
       "[35, 45, 47, 69, 78, 91]"
      ]
     },
     "execution_count": 59,
     "metadata": {},
     "output_type": "execute_result"
    }
   ],
   "source": [
    "sorted(tup3)"
   ]
  },
  {
   "cell_type": "markdown",
   "id": "82716b7e-51a6-409f-8e16-34c8a519c745",
   "metadata": {},
   "source": [
    "---"
   ]
  },
  {
   "cell_type": "markdown",
   "id": "98368ff7-9cb7-4345-87f9-404ca442667d",
   "metadata": {},
   "source": [
    "# list\n",
    "### orderred colection [] can be changged"
   ]
  },
  {
   "cell_type": "code",
   "execution_count": 67,
   "id": "b3db9e8e-de21-456e-a165-1c94b6344fdf",
   "metadata": {},
   "outputs": [
    {
     "data": {
      "text/plain": [
       "[5, 'kate', 'pizza', 45]"
      ]
     },
     "execution_count": 67,
     "metadata": {},
     "output_type": "execute_result"
    }
   ],
   "source": [
    "list1=[5,\"kate\",\"pizza\",45]\n",
    "list1"
   ]
  },
  {
   "cell_type": "code",
   "execution_count": 69,
   "id": "40de8279-2662-43bb-8c18-ed73cdc6226a",
   "metadata": {},
   "outputs": [
    {
     "data": {
      "text/plain": [
       "['kiki', 87, 104, 'jam']"
      ]
     },
     "execution_count": 69,
     "metadata": {},
     "output_type": "execute_result"
    }
   ],
   "source": [
    "list2=[\"kiki\",87,104,\"jam\"]\n",
    "list2"
   ]
  },
  {
   "cell_type": "code",
   "execution_count": 71,
   "id": "1ec1ba16-4696-4720-b8af-ba42dde61cb8",
   "metadata": {},
   "outputs": [
    {
     "data": {
      "text/plain": [
       "[5, 'kate', 'pizza', 45, 'kiki', 87, 104, 'jam']"
      ]
     },
     "execution_count": 71,
     "metadata": {},
     "output_type": "execute_result"
    }
   ],
   "source": [
    "list1+list2                                         #concetenate"
   ]
  },
  {
   "cell_type": "code",
   "execution_count": 79,
   "id": "580b4122-d9a7-4fa4-b70b-7029ad3c6480",
   "metadata": {},
   "outputs": [
    {
     "data": {
      "text/plain": [
       "[5, 'kate', 'pizza', 45, 5, 'kate', 'pizza', 45]"
      ]
     },
     "execution_count": 79,
     "metadata": {},
     "output_type": "execute_result"
    }
   ],
   "source": [
    "list1*2                                            #repeat"
   ]
  },
  {
   "cell_type": "code",
   "execution_count": 83,
   "id": "91748199-5f92-4b2e-b9c1-7fb96853aed8",
   "metadata": {},
   "outputs": [],
   "source": [
    "list1.remove(\"kate\")"
   ]
  },
  {
   "cell_type": "code",
   "execution_count": 85,
   "id": "3d879913-5ae4-4086-bd6a-d38df26fc8cf",
   "metadata": {},
   "outputs": [
    {
     "data": {
      "text/plain": [
       "[5, 'pizza', 45]"
      ]
     },
     "execution_count": 85,
     "metadata": {},
     "output_type": "execute_result"
    }
   ],
   "source": [
    "list1"
   ]
  },
  {
   "cell_type": "code",
   "execution_count": 93,
   "id": "32ccefe5-0b39-49c6-8f61-036edd05b552",
   "metadata": {},
   "outputs": [],
   "source": [
    "list1.append(\"burger\")"
   ]
  },
  {
   "cell_type": "code",
   "execution_count": 95,
   "id": "642edc5c-168a-40fe-8c35-3d2972e8472e",
   "metadata": {},
   "outputs": [
    {
     "data": {
      "text/plain": [
       "[5, 'pizza', 45, 'burger', 'burger', 'burger']"
      ]
     },
     "execution_count": 95,
     "metadata": {},
     "output_type": "execute_result"
    }
   ],
   "source": [
    "list1"
   ]
  },
  {
   "cell_type": "code",
   "execution_count": 101,
   "id": "2a6c774f-4e41-4682-a66d-b7cb4b255667",
   "metadata": {},
   "outputs": [],
   "source": [
    "list1.reverse()"
   ]
  },
  {
   "cell_type": "code",
   "execution_count": 103,
   "id": "83c2d37f-9998-4bc2-8f65-b725531c69ec",
   "metadata": {},
   "outputs": [
    {
     "data": {
      "text/plain": [
       "['burger', 'burger', 'burger', 45, 'pizza', 5]"
      ]
     },
     "execution_count": 103,
     "metadata": {},
     "output_type": "execute_result"
    }
   ],
   "source": [
    "list1"
   ]
  },
  {
   "cell_type": "code",
   "execution_count": 166,
   "id": "af9f3df9-c9fe-49fc-bfa8-e31d3d659b0e",
   "metadata": {},
   "outputs": [
    {
     "data": {
      "text/plain": [
       "'burger'"
      ]
     },
     "execution_count": 166,
     "metadata": {},
     "output_type": "execute_result"
    }
   ],
   "source": [
    "list1.pop(0)"
   ]
  },
  {
   "cell_type": "code",
   "execution_count": 110,
   "id": "4ac44d75-bc81-41ae-9e34-29102c1a43ed",
   "metadata": {},
   "outputs": [
    {
     "data": {
      "text/plain": [
       "[34, 57, 57, 68, 78, 0]"
      ]
     },
     "execution_count": 110,
     "metadata": {},
     "output_type": "execute_result"
    }
   ],
   "source": [
    "list3=[34,57,57,68,78,0]\n",
    "list3"
   ]
  },
  {
   "cell_type": "code",
   "execution_count": 116,
   "id": "c54bf7b2-b836-4595-8c5f-09f359995206",
   "metadata": {},
   "outputs": [
    {
     "data": {
      "text/plain": [
       "34"
      ]
     },
     "execution_count": 116,
     "metadata": {},
     "output_type": "execute_result"
    }
   ],
   "source": [
    "list3.pop(0)"
   ]
  },
  {
   "cell_type": "code",
   "execution_count": 122,
   "id": "5c17193d-c3a0-475c-a19b-b31d8e6fa037",
   "metadata": {},
   "outputs": [],
   "source": [
    "list3.insert(3,\"penci\")"
   ]
  },
  {
   "cell_type": "code",
   "execution_count": 124,
   "id": "fb345066-f55a-47bd-9c45-d990b86a758b",
   "metadata": {},
   "outputs": [
    {
     "data": {
      "text/plain": [
       "[57, 68, 78, 'penci', 0]"
      ]
     },
     "execution_count": 124,
     "metadata": {},
     "output_type": "execute_result"
    }
   ],
   "source": [
    "list3"
   ]
  },
  {
   "cell_type": "code",
   "execution_count": 138,
   "id": "70bd03b2-3f91-4da6-b2ad-439cefccf8c5",
   "metadata": {},
   "outputs": [
    {
     "data": {
      "text/plain": [
       "4"
      ]
     },
     "execution_count": 138,
     "metadata": {},
     "output_type": "execute_result"
    }
   ],
   "source": [
    "list3.index(0)"
   ]
  },
  {
   "cell_type": "code",
   "execution_count": 142,
   "id": "662a39a6-007d-44dd-95b6-e4d4e1a57ebf",
   "metadata": {},
   "outputs": [],
   "source": [
    "list3.extend(\"pencil\")"
   ]
  },
  {
   "cell_type": "code",
   "execution_count": 144,
   "id": "5338b8e8-a096-4cdf-b718-dcfd80ea6df5",
   "metadata": {},
   "outputs": [
    {
     "data": {
      "text/plain": [
       "[57, 68, 78, 'penci', 0, 'p', 'e', 'n', 'c', 'i', 'l']"
      ]
     },
     "execution_count": 144,
     "metadata": {},
     "output_type": "execute_result"
    }
   ],
   "source": [
    "list3"
   ]
  },
  {
   "cell_type": "code",
   "execution_count": 152,
   "id": "efe12365-259c-4bf4-98af-04ce80ec8a44",
   "metadata": {},
   "outputs": [
    {
     "data": {
      "text/plain": [
       "1"
      ]
     },
     "execution_count": 152,
     "metadata": {},
     "output_type": "execute_result"
    }
   ],
   "source": [
    "list3.count(0)"
   ]
  },
  {
   "cell_type": "code",
   "execution_count": 168,
   "id": "97164236-e5d9-49f4-8d7e-63f984942119",
   "metadata": {},
   "outputs": [
    {
     "data": {
      "text/plain": [
       "<function list.copy()>"
      ]
     },
     "execution_count": 168,
     "metadata": {},
     "output_type": "execute_result"
    }
   ],
   "source": [
    "list3.copy"
   ]
  },
  {
   "cell_type": "code",
   "execution_count": 170,
   "id": "5f4ef753-8ec9-430d-992b-bc588915c7be",
   "metadata": {},
   "outputs": [
    {
     "ename": "AttributeError",
     "evalue": "'builtin_function_or_method' object has no attribute 'append'",
     "output_type": "error",
     "traceback": [
      "\u001b[1;31m---------------------------------------------------------------------------\u001b[0m",
      "\u001b[1;31mAttributeError\u001b[0m                            Traceback (most recent call last)",
      "Cell \u001b[1;32mIn[170], line 1\u001b[0m\n\u001b[1;32m----> 1\u001b[0m list3\u001b[38;5;241m.\u001b[39mcopy\u001b[38;5;241m.\u001b[39mappend(\u001b[38;5;241m100\u001b[39m)\n",
      "\u001b[1;31mAttributeError\u001b[0m: 'builtin_function_or_method' object has no attribute 'append'"
     ]
    }
   ],
   "source": [
    "list3.copy.append(100)"
   ]
  },
  {
   "cell_type": "code",
   "execution_count": 172,
   "id": "151db59e-eaa3-4b6b-9cc2-b8518220ea60",
   "metadata": {},
   "outputs": [],
   "source": [
    "copied_list=list3.copy()"
   ]
  },
  {
   "cell_type": "code",
   "execution_count": 174,
   "id": "9b8239c8-b278-442b-bd15-d2b93c34be67",
   "metadata": {},
   "outputs": [],
   "source": [
    "copied_list.append(100)"
   ]
  },
  {
   "cell_type": "code",
   "execution_count": 176,
   "id": "e99fc77b-b47b-49b6-9c34-b5c1c39ae147",
   "metadata": {},
   "outputs": [
    {
     "data": {
      "text/plain": [
       "[57, 68, 78, 'penci', 0, 'p', 'e', 'n', 'c', 'i', 'l', 100]"
      ]
     },
     "execution_count": 176,
     "metadata": {},
     "output_type": "execute_result"
    }
   ],
   "source": [
    "copied_list"
   ]
  },
  {
   "cell_type": "code",
   "execution_count": 184,
   "id": "6771d862-40ce-427b-9052-2db8e3e7dfa4",
   "metadata": {},
   "outputs": [],
   "source": [
    "list3.clear()"
   ]
  },
  {
   "cell_type": "code",
   "execution_count": 186,
   "id": "cc79a4f0-3e8e-47ea-81d5-c583a14886b8",
   "metadata": {},
   "outputs": [
    {
     "data": {
      "text/plain": [
       "[]"
      ]
     },
     "execution_count": 186,
     "metadata": {},
     "output_type": "execute_result"
    }
   ],
   "source": [
    "list3"
   ]
  },
  {
   "cell_type": "code",
   "execution_count": 190,
   "id": "28f0f90d-a6bc-4f67-844d-0ca99d0e1aeb",
   "metadata": {},
   "outputs": [
    {
     "data": {
      "text/plain": [
       "1"
      ]
     },
     "execution_count": 190,
     "metadata": {},
     "output_type": "execute_result"
    }
   ],
   "source": [
    "copied_list.count(57)"
   ]
  },
  {
   "cell_type": "markdown",
   "id": "3363e94c-ea1a-4186-b338-63ca5d56d153",
   "metadata": {},
   "source": [
    "---"
   ]
  },
  {
   "cell_type": "markdown",
   "id": "18aaee3d-0c7b-4848-a02a-93f31247eeb9",
   "metadata": {},
   "source": [
    "# dictionary\n",
    "### key and value\n",
    "### {} beackets\n",
    "### include informantion\n"
   ]
  },
  {
   "cell_type": "code",
   "execution_count": 199,
   "id": "9626128c-4faa-46d5-9c4d-6e8a78ca3950",
   "metadata": {},
   "outputs": [
    {
     "data": {
      "text/plain": [
       "{'milk': 100, 'carrots': 50, 'potato': 200, 'onion': 60, 'tomato': 70}"
      ]
     },
     "execution_count": 199,
     "metadata": {},
     "output_type": "execute_result"
    }
   ],
   "source": [
    "food1={\"milk\":100,\"carrots\":50,\"potato\":200,\"onion\":60,\"tomato\":70}\n",
    "food1"
   ]
  },
  {
   "cell_type": "code",
   "execution_count": 203,
   "id": "0664c97a-f7b1-4afd-8036-9c78823f7406",
   "metadata": {},
   "outputs": [
    {
     "data": {
      "text/plain": [
       "dict_items([('milk', 100), ('carrots', 50), ('potato', 200), ('onion', 60), ('tomato', 70)])"
      ]
     },
     "execution_count": 203,
     "metadata": {},
     "output_type": "execute_result"
    }
   ],
   "source": [
    "food1.items()"
   ]
  },
  {
   "cell_type": "code",
   "execution_count": 205,
   "id": "db2b7d7f-78e1-4aa0-9fc2-ef2790c92453",
   "metadata": {},
   "outputs": [
    {
     "data": {
      "text/plain": [
       "dict_keys(['milk', 'carrots', 'potato', 'onion', 'tomato'])"
      ]
     },
     "execution_count": 205,
     "metadata": {},
     "output_type": "execute_result"
    }
   ],
   "source": [
    "food1.keys()"
   ]
  },
  {
   "cell_type": "code",
   "execution_count": 207,
   "id": "7b9d6da3-7c75-40bd-b2dd-b361e69950bf",
   "metadata": {},
   "outputs": [
    {
     "data": {
      "text/plain": [
       "dict_values([100, 50, 200, 60, 70])"
      ]
     },
     "execution_count": 207,
     "metadata": {},
     "output_type": "execute_result"
    }
   ],
   "source": [
    "food1.values()"
   ]
  },
  {
   "cell_type": "code",
   "execution_count": 209,
   "id": "8af60b6e-ee91-4c13-9889-38fe747d3bbd",
   "metadata": {},
   "outputs": [
    {
     "data": {
      "text/plain": [
       "100"
      ]
     },
     "execution_count": 209,
     "metadata": {},
     "output_type": "execute_result"
    }
   ],
   "source": [
    "food1.pop(\"milk\")"
   ]
  },
  {
   "cell_type": "code",
   "execution_count": 217,
   "id": "645a4477-3b1c-4437-a71c-5d88cbda2aa6",
   "metadata": {},
   "outputs": [
    {
     "data": {
      "text/plain": [
       "60"
      ]
     },
     "execution_count": 217,
     "metadata": {},
     "output_type": "execute_result"
    }
   ],
   "source": [
    "food1.get(\"onion\")"
   ]
  },
  {
   "cell_type": "code",
   "execution_count": 219,
   "id": "9318c9e3-7308-4cba-8f8a-ac225d558940",
   "metadata": {},
   "outputs": [
    {
     "data": {
      "text/plain": [
       "{'carrots': 50, 'potato': 200, 'onion': 60, 'tomato': 70}"
      ]
     },
     "execution_count": 219,
     "metadata": {},
     "output_type": "execute_result"
    }
   ],
   "source": [
    "food1"
   ]
  },
  {
   "cell_type": "code",
   "execution_count": 223,
   "id": "561e6786-bdad-4b1a-bf91-acc0b19bf577",
   "metadata": {},
   "outputs": [
    {
     "data": {
      "text/plain": [
       "{'carrots': 50, 'potato': 200, 'onion': 60, 'tomato': 70}"
      ]
     },
     "execution_count": 223,
     "metadata": {},
     "output_type": "execute_result"
    }
   ],
   "source": [
    "food1"
   ]
  },
  {
   "cell_type": "code",
   "execution_count": 233,
   "id": "45e50c56-e2af-43be-96ca-67ec217b4495",
   "metadata": {},
   "outputs": [
    {
     "data": {
      "text/plain": [
       "{'carrots', 'cucumber', 'garlic', 'mint', 'onion', 'potato', 'tomato'}"
      ]
     },
     "execution_count": 233,
     "metadata": {},
     "output_type": "execute_result"
    }
   ],
   "source": [
    "keys"
   ]
  },
  {
   "cell_type": "code",
   "execution_count": 243,
   "id": "403c0bc1-bc14-4225-9a9b-c1fd0b008656",
   "metadata": {},
   "outputs": [
    {
     "data": {
      "text/plain": [
       "0"
      ]
     },
     "execution_count": 243,
     "metadata": {},
     "output_type": "execute_result"
    }
   ],
   "source": [
    "food1.get(\"potato\")"
   ]
  },
  {
   "cell_type": "code",
   "execution_count": 255,
   "id": "a0941475-8712-4c42-9a3c-f7702c8180d5",
   "metadata": {},
   "outputs": [
    {
     "data": {
      "text/plain": [
       "{'cucumber': 0,\n",
       " 'onion': 0,\n",
       " 'mint': 0,\n",
       " 'tomato': 0,\n",
       " 'carrots': 0,\n",
       " 'garlic': 0,\n",
       " 'potato': 0}"
      ]
     },
     "execution_count": 255,
     "metadata": {},
     "output_type": "execute_result"
    }
   ],
   "source": [
    "food1"
   ]
  },
  {
   "cell_type": "code",
   "execution_count": 259,
   "id": "ca019c66-c653-4621-a67e-49307017aa2f",
   "metadata": {},
   "outputs": [
    {
     "data": {
      "text/plain": [
       "{'chcolote': 500, 'candies': 45, 'cake': 100, 'iceream': 700}"
      ]
     },
     "execution_count": 259,
     "metadata": {},
     "output_type": "execute_result"
    }
   ],
   "source": [
    "food2={\"chcolote\":500,\"candies\":45,\"cake\":100,\"iceream\":700}\n",
    "food2"
   ]
  },
  {
   "cell_type": "code",
   "execution_count": 261,
   "id": "c9c7b77e-5b3e-4c14-b240-8f8ffc9b5832",
   "metadata": {},
   "outputs": [
    {
     "data": {
      "text/plain": [
       "100"
      ]
     },
     "execution_count": 261,
     "metadata": {},
     "output_type": "execute_result"
    }
   ],
   "source": [
    "food2.get(\"cake\")"
   ]
  },
  {
   "cell_type": "code",
   "execution_count": 263,
   "id": "70c29c2b-051d-40eb-af82-a8d9e6290688",
   "metadata": {},
   "outputs": [
    {
     "data": {
      "text/plain": [
       "dict_items([('chcolote', 500), ('candies', 45), ('cake', 100), ('iceream', 700)])"
      ]
     },
     "execution_count": 263,
     "metadata": {},
     "output_type": "execute_result"
    }
   ],
   "source": [
    "food2.items()"
   ]
  },
  {
   "cell_type": "code",
   "execution_count": 265,
   "id": "66a62f19-e8e8-4d0f-ba7d-ba19c7300e61",
   "metadata": {},
   "outputs": [],
   "source": [
    "food2.update(food1)"
   ]
  },
  {
   "cell_type": "code",
   "execution_count": 267,
   "id": "7506a153-272b-425d-b441-aedd40f9822e",
   "metadata": {},
   "outputs": [
    {
     "data": {
      "text/plain": [
       "{'chcolote': 500,\n",
       " 'candies': 45,\n",
       " 'cake': 100,\n",
       " 'iceream': 700,\n",
       " 'cucumber': 0,\n",
       " 'onion': 0,\n",
       " 'mint': 0,\n",
       " 'tomato': 0,\n",
       " 'carrots': 0,\n",
       " 'garlic': 0,\n",
       " 'potato': 0}"
      ]
     },
     "execution_count": 267,
     "metadata": {},
     "output_type": "execute_result"
    }
   ],
   "source": [
    "food2"
   ]
  },
  {
   "cell_type": "code",
   "execution_count": 271,
   "id": "6ede3209-c5a1-4a70-8d1d-c6d9693100da",
   "metadata": {},
   "outputs": [
    {
     "data": {
      "text/plain": [
       "('potato', 0)"
      ]
     },
     "execution_count": 271,
     "metadata": {},
     "output_type": "execute_result"
    }
   ],
   "source": [
    "food2.popitem()"
   ]
  },
  {
   "cell_type": "code",
   "execution_count": 273,
   "id": "525b5102-9789-46a5-a7ef-490823470112",
   "metadata": {},
   "outputs": [
    {
     "data": {
      "text/plain": [
       "{'chcolote': 500,\n",
       " 'candies': 45,\n",
       " 'cake': 100,\n",
       " 'iceream': 700,\n",
       " 'cucumber': 0,\n",
       " 'onion': 0,\n",
       " 'mint': 0,\n",
       " 'tomato': 0,\n",
       " 'carrots': 0,\n",
       " 'garlic': 0}"
      ]
     },
     "execution_count": 273,
     "metadata": {},
     "output_type": "execute_result"
    }
   ],
   "source": [
    "food2"
   ]
  },
  {
   "cell_type": "code",
   "execution_count": 287,
   "id": "9e3aee7e-9df6-4ddf-b284-a5b763073bea",
   "metadata": {},
   "outputs": [],
   "source": [
    "food2.setdefault(\"biscuit\")"
   ]
  },
  {
   "cell_type": "code",
   "execution_count": 283,
   "id": "ba941bd9-02b9-4c17-b34a-ef437acc3caf",
   "metadata": {},
   "outputs": [],
   "source": [
    "food2.get(\"biscuit\")"
   ]
  },
  {
   "cell_type": "code",
   "execution_count": 289,
   "id": "63e7cb93-2d3d-4c2c-961e-9bfb226aeef5",
   "metadata": {},
   "outputs": [
    {
     "data": {
      "text/plain": [
       "{'chcolote': 500,\n",
       " 'candies': 45,\n",
       " 'cake': 100,\n",
       " 'iceream': 700,\n",
       " 'cucumber': 0,\n",
       " 'onion': 0,\n",
       " 'mint': 0,\n",
       " 'tomato': 0,\n",
       " 'carrots': 0,\n",
       " 'garlic': 0,\n",
       " 'biscuit': None}"
      ]
     },
     "execution_count": 289,
     "metadata": {},
     "output_type": "execute_result"
    }
   ],
   "source": [
    "food2"
   ]
  },
  {
   "cell_type": "markdown",
   "id": "2003a7c0-aa32-46e4-a090-51323966013b",
   "metadata": {},
   "source": [
    "-----"
   ]
  },
  {
   "cell_type": "markdown",
   "id": "42ab7b77-aae7-4b7d-b328-eb2460a0ffcf",
   "metadata": {},
   "source": [
    "# Sets\n",
    "### unordered, {}, no duplicates"
   ]
  },
  {
   "cell_type": "code",
   "execution_count": 299,
   "id": "1103cd8d-a2ca-4f8f-8e1a-9727a5bf6656",
   "metadata": {},
   "outputs": [
    {
     "data": {
      "text/plain": [
       "{45, True, 'kim', 'mimi'}"
      ]
     },
     "execution_count": 299,
     "metadata": {},
     "output_type": "execute_result"
    }
   ],
   "source": [
    "set={45,True,\"mimi\",\"kim\",1}\n",
    "set"
   ]
  },
  {
   "cell_type": "code",
   "execution_count": 301,
   "id": "deae04f8-3089-41f6-a89e-ca1fec4a6ce2",
   "metadata": {},
   "outputs": [],
   "source": [
    "set.add(\"eggplant\")"
   ]
  },
  {
   "cell_type": "code",
   "execution_count": 303,
   "id": "25df8f26-d61a-4901-bc30-7c0a19e9dd29",
   "metadata": {},
   "outputs": [
    {
     "data": {
      "text/plain": [
       "{45, True, 'eggplant', 'kim', 'mimi'}"
      ]
     },
     "execution_count": 303,
     "metadata": {},
     "output_type": "execute_result"
    }
   ],
   "source": [
    "set"
   ]
  },
  {
   "cell_type": "code",
   "execution_count": 305,
   "id": "84f958e7-f147-4fe8-a468-1c1bb14f63ee",
   "metadata": {},
   "outputs": [
    {
     "data": {
      "text/plain": [
       "{45, True, 'eggplant', 'kim', 'mimi'}"
      ]
     },
     "execution_count": 305,
     "metadata": {},
     "output_type": "execute_result"
    }
   ],
   "source": [
    "set.copy()"
   ]
  },
  {
   "cell_type": "code",
   "execution_count": 309,
   "id": "09064377-7750-4e0f-af60-215ce10289dd",
   "metadata": {},
   "outputs": [
    {
     "data": {
      "text/plain": [
       "True"
      ]
     },
     "execution_count": 309,
     "metadata": {},
     "output_type": "execute_result"
    }
   ],
   "source": [
    "set.pop()"
   ]
  },
  {
   "cell_type": "code",
   "execution_count": 313,
   "id": "239938cb-19ad-4021-8269-8012eedd19c6",
   "metadata": {},
   "outputs": [
    {
     "data": {
      "text/plain": [
       "{45, 'eggplant', 'kim', 'mimi'}"
      ]
     },
     "execution_count": 313,
     "metadata": {},
     "output_type": "execute_result"
    }
   ],
   "source": [
    "set.difference()"
   ]
  },
  {
   "cell_type": "code",
   "execution_count": 315,
   "id": "739fe835-b31d-45e1-9a5b-b96945027a9a",
   "metadata": {},
   "outputs": [],
   "source": [
    "set2={\"mikey\",\"lolo\",\"zinta\",79,97,4.67}"
   ]
  },
  {
   "cell_type": "code",
   "execution_count": 317,
   "id": "fd93bdbb-fba5-42e6-bff8-42848b77b227",
   "metadata": {},
   "outputs": [
    {
     "data": {
      "text/plain": [
       "{45, 'eggplant', 'kim', 'mimi'}"
      ]
     },
     "execution_count": 317,
     "metadata": {},
     "output_type": "execute_result"
    }
   ],
   "source": [
    "set.difference(set2)"
   ]
  },
  {
   "cell_type": "code",
   "execution_count": 319,
   "id": "675ddeab-e009-4b4f-9713-6d5765d7df5f",
   "metadata": {},
   "outputs": [],
   "source": [
    "set.discard(\"eggplant\")"
   ]
  },
  {
   "cell_type": "code",
   "execution_count": 321,
   "id": "6c33a4ff-5584-412b-b25f-525a9a38eed8",
   "metadata": {},
   "outputs": [
    {
     "data": {
      "text/plain": [
       "{45, 'kim', 'mimi'}"
      ]
     },
     "execution_count": 321,
     "metadata": {},
     "output_type": "execute_result"
    }
   ],
   "source": [
    "set"
   ]
  },
  {
   "cell_type": "code",
   "execution_count": 323,
   "id": "e2804b99-164a-4db3-b28a-a36c339d0382",
   "metadata": {},
   "outputs": [],
   "source": [
    "set.difference_update()"
   ]
  },
  {
   "cell_type": "code",
   "execution_count": 325,
   "id": "97491168-fbae-47df-8131-18f74d6aeb01",
   "metadata": {},
   "outputs": [
    {
     "data": {
      "text/plain": [
       "{45, 'kim', 'mimi'}"
      ]
     },
     "execution_count": 325,
     "metadata": {},
     "output_type": "execute_result"
    }
   ],
   "source": [
    "set"
   ]
  },
  {
   "cell_type": "code",
   "execution_count": 327,
   "id": "f07428eb-f99a-4f06-8e07-d6a11835db29",
   "metadata": {},
   "outputs": [
    {
     "data": {
      "text/plain": [
       "{1, 3, 4, 5, 6, 21}"
      ]
     },
     "execution_count": 327,
     "metadata": {},
     "output_type": "execute_result"
    }
   ],
   "source": [
    "set3={6,5,4,3,21,1}\n",
    "set3"
   ]
  },
  {
   "cell_type": "code",
   "execution_count": 331,
   "id": "45058002-fec2-44aa-86c7-45a6bff46e6b",
   "metadata": {},
   "outputs": [
    {
     "data": {
      "text/plain": [
       "{1, 2, 3, 5, 6, 7}"
      ]
     },
     "execution_count": 331,
     "metadata": {},
     "output_type": "execute_result"
    }
   ],
   "source": [
    "set4={1,2,3,5,6,7}\n",
    "set4"
   ]
  },
  {
   "cell_type": "code",
   "execution_count": 333,
   "id": "02d1bac5-3f52-4c7d-bdf5-9781841dec58",
   "metadata": {},
   "outputs": [
    {
     "data": {
      "text/plain": [
       "{4, 21}"
      ]
     },
     "execution_count": 333,
     "metadata": {},
     "output_type": "execute_result"
    }
   ],
   "source": [
    "set3.difference(set4)"
   ]
  },
  {
   "cell_type": "code",
   "execution_count": 339,
   "id": "a1771d0b-2ea7-4d5f-b887-311adf53393e",
   "metadata": {},
   "outputs": [],
   "source": [
    "set3.difference_update(set4)"
   ]
  },
  {
   "cell_type": "code",
   "execution_count": 341,
   "id": "d7af7b53-45df-451f-973c-2ddb51a2043d",
   "metadata": {},
   "outputs": [
    {
     "data": {
      "text/plain": [
       "{4, 21}"
      ]
     },
     "execution_count": 341,
     "metadata": {},
     "output_type": "execute_result"
    }
   ],
   "source": [
    "set3"
   ]
  },
  {
   "cell_type": "code",
   "execution_count": 343,
   "id": "77b4477c-d79b-4d99-83f0-69f3f82ba6af",
   "metadata": {},
   "outputs": [],
   "source": [
    "set.discard(\"kim\")"
   ]
  },
  {
   "cell_type": "code",
   "execution_count": 345,
   "id": "f6c8724a-b280-430c-aadc-688fafae57df",
   "metadata": {},
   "outputs": [
    {
     "data": {
      "text/plain": [
       "{45, 'mimi'}"
      ]
     },
     "execution_count": 345,
     "metadata": {},
     "output_type": "execute_result"
    }
   ],
   "source": [
    "set"
   ]
  },
  {
   "cell_type": "code",
   "execution_count": 347,
   "id": "4e5545aa-b48a-4d4b-a860-5da91e4c4736",
   "metadata": {},
   "outputs": [
    {
     "data": {
      "text/plain": [
       "{21, 4, 45, 'mimi'}"
      ]
     },
     "execution_count": 347,
     "metadata": {},
     "output_type": "execute_result"
    }
   ],
   "source": [
    "set.union(set3)"
   ]
  },
  {
   "cell_type": "code",
   "execution_count": 349,
   "id": "e818eda1-5358-487a-8ac3-d978861caffd",
   "metadata": {},
   "outputs": [
    {
     "data": {
      "text/plain": [
       "{45, 'mimi'}"
      ]
     },
     "execution_count": 349,
     "metadata": {},
     "output_type": "execute_result"
    }
   ],
   "source": [
    "set"
   ]
  },
  {
   "cell_type": "code",
   "execution_count": 351,
   "id": "7d420ae5-d74f-4a0d-bf5d-0ce1e2cfc164",
   "metadata": {},
   "outputs": [
    {
     "data": {
      "text/plain": [
       "set()"
      ]
     },
     "execution_count": 351,
     "metadata": {},
     "output_type": "execute_result"
    }
   ],
   "source": [
    "set3.intersection(set)"
   ]
  },
  {
   "cell_type": "code",
   "execution_count": 353,
   "id": "eebc0fb0-5022-4ceb-a7ca-6db312f65173",
   "metadata": {},
   "outputs": [
    {
     "data": {
      "text/plain": [
       "True"
      ]
     },
     "execution_count": 353,
     "metadata": {},
     "output_type": "execute_result"
    }
   ],
   "source": [
    "set.isdisjoint(set4)"
   ]
  },
  {
   "cell_type": "code",
   "execution_count": 360,
   "id": "06a2cf94-ae5a-42de-bc17-a4827e27ef88",
   "metadata": {},
   "outputs": [
    {
     "data": {
      "text/plain": [
       "'mimi'"
      ]
     },
     "execution_count": 360,
     "metadata": {},
     "output_type": "execute_result"
    }
   ],
   "source": [
    "set.pop()"
   ]
  },
  {
   "cell_type": "code",
   "execution_count": 362,
   "id": "fea6712a-374c-4970-8f12-9219236a434c",
   "metadata": {},
   "outputs": [
    {
     "data": {
      "text/plain": [
       "{1, 2, 3, 5, 6, 7, 45}"
      ]
     },
     "execution_count": 362,
     "metadata": {},
     "output_type": "execute_result"
    }
   ],
   "source": [
    "set.union(set4)"
   ]
  },
  {
   "cell_type": "code",
   "execution_count": 366,
   "id": "c89db4f4-9ddf-45fc-93c5-c745fb3e7fec",
   "metadata": {},
   "outputs": [
    {
     "data": {
      "text/plain": [
       "False"
      ]
     },
     "execution_count": 366,
     "metadata": {},
     "output_type": "execute_result"
    }
   ],
   "source": [
    "set.issubset(set4)                          #all elements are present from one set"
   ]
  },
  {
   "cell_type": "code",
   "execution_count": 368,
   "id": "dafc81d3-2e28-4575-a072-b75e445a83d4",
   "metadata": {},
   "outputs": [
    {
     "data": {
      "text/plain": [
       "{1, 2, 3, 5, 6, 7, 45}"
      ]
     },
     "execution_count": 368,
     "metadata": {},
     "output_type": "execute_result"
    }
   ],
   "source": [
    "set.symmetric_difference(set4)"
   ]
  },
  {
   "cell_type": "code",
   "execution_count": null,
   "id": "7701999c-6532-4a94-af4d-9b17bfbcc20e",
   "metadata": {},
   "outputs": [],
   "source": [
    "set."
   ]
  },
  {
   "cell_type": "code",
   "execution_count": 1,
   "id": "26990db3-8052-4e21-9a54-c85fa27e159f",
   "metadata": {},
   "outputs": [
    {
     "data": {
      "text/plain": [
       "{5, 6, 7, 8, 9, 10, 13}"
      ]
     },
     "execution_count": 1,
     "metadata": {},
     "output_type": "execute_result"
    }
   ],
   "source": [
    "set6={5,6,7,8,9,10,13}\n",
    "set6"
   ]
  },
  {
   "cell_type": "code",
   "execution_count": 3,
   "id": "69bbed31-d29b-4e48-95c0-b638ec662bce",
   "metadata": {},
   "outputs": [
    {
     "data": {
      "text/plain": [
       "{1, 3, 5, 6, 9, 10, 11}"
      ]
     },
     "execution_count": 3,
     "metadata": {},
     "output_type": "execute_result"
    }
   ],
   "source": [
    "set7={5,6,1,3,9,10,11}\n",
    "set7"
   ]
  },
  {
   "cell_type": "code",
   "execution_count": 7,
   "id": "b3f35dbc-269e-40f7-9db9-7678472eca8d",
   "metadata": {},
   "outputs": [
    {
     "data": {
      "text/plain": [
       "{1, 3, 11}"
      ]
     },
     "execution_count": 7,
     "metadata": {},
     "output_type": "execute_result"
    }
   ],
   "source": [
    "set7.difference(set6)"
   ]
  },
  {
   "cell_type": "code",
   "execution_count": 9,
   "id": "c772113f-170c-450a-a276-a028879d973b",
   "metadata": {},
   "outputs": [
    {
     "data": {
      "text/plain": [
       "{5, 6, 9, 10}"
      ]
     },
     "execution_count": 9,
     "metadata": {},
     "output_type": "execute_result"
    }
   ],
   "source": [
    "set6.intersection(set7)"
   ]
  },
  {
   "cell_type": "code",
   "execution_count": 11,
   "id": "c126285a-158a-4c77-ad41-732c35e18c31",
   "metadata": {},
   "outputs": [
    {
     "data": {
      "text/plain": [
       "{1, 3, 7, 8, 11, 13}"
      ]
     },
     "execution_count": 11,
     "metadata": {},
     "output_type": "execute_result"
    }
   ],
   "source": [
    "set6.symmetric_difference(set7)"
   ]
  },
  {
   "cell_type": "code",
   "execution_count": 13,
   "id": "e58beb3d-9c46-488e-95ea-4db1e29eaa44",
   "metadata": {},
   "outputs": [
    {
     "data": {
      "text/plain": [
       "False"
      ]
     },
     "execution_count": 13,
     "metadata": {},
     "output_type": "execute_result"
    }
   ],
   "source": [
    "set6.issubset(set7)"
   ]
  },
  {
   "cell_type": "code",
   "execution_count": 17,
   "id": "819e2fbe-33b0-495e-89a9-38d4e60a7ea4",
   "metadata": {},
   "outputs": [
    {
     "data": {
      "text/plain": [
       "False"
      ]
     },
     "execution_count": 17,
     "metadata": {},
     "output_type": "execute_result"
    }
   ],
   "source": [
    "set7.issuperset(set6)"
   ]
  },
  {
   "cell_type": "code",
   "execution_count": 19,
   "id": "54aaa995-fad5-41ac-9e22-5cd72b95dc9b",
   "metadata": {},
   "outputs": [
    {
     "data": {
      "text/plain": [
       "False"
      ]
     },
     "execution_count": 19,
     "metadata": {},
     "output_type": "execute_result"
    }
   ],
   "source": [
    "set6.isdisjoint(set7)"
   ]
  },
  {
   "cell_type": "code",
   "execution_count": 27,
   "id": "f2d66d91-35f5-4504-9346-5e29d3537784",
   "metadata": {},
   "outputs": [
    {
     "data": {
      "text/plain": [
       "False"
      ]
     },
     "execution_count": 27,
     "metadata": {},
     "output_type": "execute_result"
    }
   ],
   "source": [
    "set6.isdisjoint(set7)"
   ]
  },
  {
   "cell_type": "code",
   "execution_count": 33,
   "id": "6b9e5775-9f02-483f-9ffa-0c1d25961649",
   "metadata": {},
   "outputs": [
    {
     "ename": "AttributeError",
     "evalue": "'set' object has no attribute 'mro'",
     "output_type": "error",
     "traceback": [
      "\u001b[1;31m---------------------------------------------------------------------------\u001b[0m",
      "\u001b[1;31mAttributeError\u001b[0m                            Traceback (most recent call last)",
      "Cell \u001b[1;32mIn[33], line 1\u001b[0m\n\u001b[1;32m----> 1\u001b[0m set6\u001b[38;5;241m.\u001b[39mmro()\n",
      "\u001b[1;31mAttributeError\u001b[0m: 'set' object has no attribute 'mro'"
     ]
    }
   ],
   "source": [
    "set6.mro()"
   ]
  },
  {
   "cell_type": "code",
   "execution_count": null,
   "id": "b56c37a2-86c9-4d4c-b3b2-530b3e7dafc9",
   "metadata": {},
   "outputs": [],
   "source": []
  }
 ],
 "metadata": {
  "kernelspec": {
   "display_name": "Python 3 (ipykernel)",
   "language": "python",
   "name": "python3"
  },
  "language_info": {
   "codemirror_mode": {
    "name": "ipython",
    "version": 3
   },
   "file_extension": ".py",
   "mimetype": "text/x-python",
   "name": "python",
   "nbconvert_exporter": "python",
   "pygments_lexer": "ipython3",
   "version": "3.12.4"
  }
 },
 "nbformat": 4,
 "nbformat_minor": 5
}
